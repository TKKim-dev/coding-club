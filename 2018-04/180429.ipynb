{
 "cells": [
  {
   "cell_type": "markdown",
   "metadata": {},
   "source": [
    "# 2018-04-29 \n",
    "\n",
    "### print(), input(), 서식 문자열 개념"
   ]
  },
  {
   "cell_type": "markdown",
   "metadata": {},
   "source": [
    "## 서식 문자열: %d 혹은 {:d} 와 format() 함수를 이용"
   ]
  },
  {
   "cell_type": "code",
   "execution_count": 9,
   "metadata": {},
   "outputs": [
    {
     "name": "stdout",
     "output_type": "stream",
     "text": [
      "내 이름은 TK이고 25살입니다.\n",
      "나는 코딩을 10살 때부터 했습니다!\n",
      "문자열을더하면요렇게\n",
      "줄을 띄우려면\n",
      "요렇게!\n"
     ]
    }
   ],
   "source": [
    "string1 = \"내 이름은 %s이고 %d살입니다.\" %('TK',25)\n",
    "string2 = \"나는 {:s}을 {:d}살 때부터 했습니다!\".format('코딩', 10) # 물론 구라임\n",
    "\n",
    "print(string1)\n",
    "print(string2)\n",
    "\n",
    "print(\"문자열을\" + \"더하면\" + \"요렇게\") # 문자열 덧셈은 붙이는 기능\n",
    "print(\"줄을 띄우려면\\n요렇게!\") # 새 줄을 띄우려면 \\n 을 이용하기!"
   ]
  },
  {
   "cell_type": "markdown",
   "metadata": {},
   "source": [
    "## 덧셈 계산기\n",
    "\n",
    "#### by JYP"
   ]
  },
  {
   "cell_type": "code",
   "execution_count": 4,
   "metadata": {
    "scrolled": false
   },
   "outputs": [
    {
     "name": "stdout",
     "output_type": "stream",
     "text": [
      "첫번째 숫자를 입력하세요12\n",
      "두번째 숫자를 입력하세요18\n",
      "30\n"
     ]
    }
   ],
   "source": [
    "a=int(input(\"첫번째 숫자를 입력하세요\"))\n",
    "b=int(input(\"두번째 숫자를 입력하세요\"))\n",
    "c=a+b\n",
    "d=print(c)"
   ]
  },
  {
   "cell_type": "markdown",
   "metadata": {},
   "source": [
    "## 이름과 나이를 받고 (무례한) 인사를 하는 프로그램\n",
    "\n",
    "#### by BK"
   ]
  },
  {
   "cell_type": "code",
   "execution_count": 5,
   "metadata": {
    "scrolled": true
   },
   "outputs": [
    {
     "name": "stdout",
     "output_type": "stream",
     "text": [
      "이름을 입력하세요\n",
      "TK\n",
      "나이를 입력하세요\n",
      "25\n",
      "TK 인 당신은 2093 년 뒤에 백살이 될 것입니다. 늙으셨네요\n"
     ]
    }
   ],
   "source": [
    "a=input(\"이름을 입력하세요\\n\")\n",
    "b=int(input(\"나이를 입력하세요\\n\"))\n",
    "c=100-b\n",
    "d=2018+c\n",
    "print(\"%s 인 당신은 %d 년 뒤에 백살이 될 것입니다. 늙으셨네요\"%(a,d))"
   ]
  },
  {
   "cell_type": "markdown",
   "metadata": {},
   "source": [
    "## 함수 맛보기\n",
    "\n",
    "#### by TK"
   ]
  },
  {
   "cell_type": "code",
   "execution_count": 6,
   "metadata": {},
   "outputs": [
    {
     "name": "stdout",
     "output_type": "stream",
     "text": [
      "함수 내부 코드 실행 중. 결과는 200\n",
      "TK 함수가 뱉어낸 값은 30\n"
     ]
    }
   ],
   "source": [
    "def TK(a, b): # 여기의 a, b 는 함수의 in 에 해당하고\n",
    "    print(\"*함수 내부 코드 실행 중. 결과는\", a*b)\n",
    "    return a+b # 여기의 return a+b 는 함수의 out 에 해당함.\n",
    "\n",
    "result = TK(10, 20)\n",
    "print(\"TK 함수가 뱉어낸 값은\", result)"
   ]
  },
  {
   "cell_type": "markdown",
   "metadata": {},
   "source": [
    "# 다음 주는?\n",
    "\n",
    "\n",
    "## 다음에는 조건문(분기문)과 반복문에 대해 알아볼 예정입니다~ :)"
   ]
  }
 ],
 "metadata": {
  "kernelspec": {
   "display_name": "Python 3",
   "language": "python",
   "name": "python3"
  }
 },
 "nbformat": 4,
 "nbformat_minor": 2
}
